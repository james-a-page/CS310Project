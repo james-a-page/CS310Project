{
 "cells": [
  {
   "cell_type": "code",
   "execution_count": null,
   "metadata": {},
   "outputs": [],
   "source": [
    "import pandas as pd\n",
    "import numpy as np"
   ]
  },
  {
   "cell_type": "code",
   "execution_count": null,
   "metadata": {},
   "outputs": [],
   "source": [
    "df = pd.read_csv('windavailability.csv')\n",
    "BMU_Ids = df['BMU_ID'].unique()\n",
    "# print(BMU_Ids)"
   ]
  },
  {
   "cell_type": "code",
   "execution_count": null,
   "metadata": {},
   "outputs": [],
   "source": [
    "# print(df_B1610.head(2))\n",
    "from ElexonDataPortal import api\n",
    "\n",
    "client = api.Client('90nkfffj5r9qtbh')\n",
    "print(client.get_B1610.__doc__)\n",
    "\n",
    "\n",
    "# #How to get generation data for time period, and unit ID\n",
    "# start_date = '2020-01-01'\n",
    "# end_date = '2020-01-01 12:00'   \n",
    "# NGCBMUnitID = 'LARYO-1'\n",
    "# test = client.get_B1610(start_date,end_date,NGCBMUnitID)"
   ]
  },
  {
   "cell_type": "code",
   "execution_count": null,
   "metadata": {},
   "outputs": [],
   "source": []
  }
 ],
 "metadata": {
  "interpreter": {
   "hash": "63fd5069d213b44bf678585dea6b12cceca9941eaf7f819626cde1f2670de90d"
  },
  "kernelspec": {
   "display_name": "Python 3.9.1 64-bit",
   "language": "python",
   "name": "python3"
  },
  "language_info": {
   "codemirror_mode": {
    "name": "ipython",
    "version": 3
   },
   "file_extension": ".py",
   "mimetype": "text/x-python",
   "name": "python",
   "nbconvert_exporter": "python",
   "pygments_lexer": "ipython3",
   "version": "3.9.1"
  },
  "orig_nbformat": 4
 },
 "nbformat": 4,
 "nbformat_minor": 2
}
