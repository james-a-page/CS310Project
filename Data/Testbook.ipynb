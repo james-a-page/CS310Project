{
 "cells": [
  {
   "cell_type": "code",
   "execution_count": 8,
   "metadata": {},
   "outputs": [
    {
     "name": "stdout",
     "output_type": "stream",
     "text": [
      "['ABRTW-1', 'ACHRW-1', 'AKGLW-2', 'ANSUW-1', 'ARCHW-1', 'BEINW-1', 'BETHW-1', 'BHLAW-1', 'BLKWW-1', 'BLLA-1', 'BLLA-2', 'BNWKW-1', 'BRYBW-1', 'BTUIW-2', 'CGTHW-1', 'CLDCW-1', 'CLDNW-1', 'CLDRW-1', 'CLDSW-1', 'CLFLW-1', 'COUWW-1', 'CRGHW-1', 'CRMLW-1', 'CRYRW-2', 'DALSW-1', 'DRSLW-1', 'DUNGW-1', 'EDINW-1', 'EWHLW-1', 'FAARW-1', 'FAARW-2', 'FSDLW-1', 'GDSTW-1', 'GLOFW-1', 'GRIFW-1', 'GRIFW-2', 'HBHDW-1', 'HLGLW-1', 'HRSTW-1', 'KILBW-1', 'KLGLW-1', 'MILWW-1', 'MINSW-1', 'MKHLW-1', 'SANQW-1', 'STLGW-1', 'STLGW-2', 'STLGW-3', 'STRNW-1', 'TDBNW-1', 'TULWW-1', 'TULWW-2', 'WHIHW-1', 'WHILW-1', 'WHILW-2']\n"
     ]
    }
   ],
   "source": [
    "a = [\"HEYM11\",\"HEYM12\",\"DDGNO-4\",\"HEYM27\",\"HYWDW-1\",\"HEYM28\",\"GAOFO-4\",\"GAOFO-3\",\"HINB-7\",\"GAOFO-2\",\"HINB-8\",\"GAOFO-1\",\"STRNW-1\",\"AKGLW-2\",\"WDNSO-2\",\"WDNSO-1\",\"FAWN-1\",\"CDCL-1\",\"EECL-1\",\"BLKWW-1\",\"FELL-1\",\"SHOS-1\",\"ABRBO-1\",\"HUMR-1\",\"CAS-BEU01\",\"BEATO-1\",\"KLGLW-1\",\"CAS-KIL01\",\"BEATO-3\",\"CRUA-1\",\"BEATO-2\",\"CRUA-2\",\"RCBKO-2\",\"BEATO-4\",\"HUNB-8\",\"HOWAO-2\",\"CAS-CLU01\",\"HOWAO-3\",\"CAS-CON01\",\"CAS-GAR01\",\"HOWAO-1\",\"CAS-MOR01\",\"LCSMH-1\",\"BLLA-1\",\"EAAO-1\",\"EAAO-2\",\"GRMO-1\",\"GLOFW-1\",\"RCBKO-1\",\"FAARW-1\",\"FAARW-2\",\"WLNYO-3\",\"BETHW-1\",\"FASN-4\",\"BURBW-1\",\"MINSW-1\",\"SIZB-1\",\"DALSW-1\",\"SIZB-2\",\"WLNYO-4\",\"RMPNO-1\",\"CLFLW-1\",\"RMPNO-2\",\"GNFSW-1\",\"GNFSW-2\",\"WILCT-1\",\"SANQW-1\",\"EDINW-1\",\"STLGW-1\",\"STLGW-2\",\"CRYRW-2\",\"SHBA-1\",\"STLGW-3\",\"GRGBW-1\",\"GRAI-6\",\"WHIHW-1\",\"GRAI-8\",\"ANSUW-1\",\"CLDSW-1\",\"ARCHW-1\",\"TORN-1\",\"MOWEO-1\",\"GRIFW-1\",\"MOWEO-3\",\"GRIFW-2\",\"CLDNW-1\",\"TORN-2\",\"CLDCW-1\",\"BTUIW-2\",\"BOWLW-1\",\"GRGBW-2\",\"WHILW-1\",\"GRGBW-3\",\"KILBW-1\",\"MILWW-1\",\"CRGHW-1\",\"MARK-1\",\"LAGA-1\",\"GFLDW-1\",\"TDBNW-1\",\"HRSTW-1\",\"BRYBW-1\",\"TULWW-2\",\"GDSTW-1\",\"WLNYW-1\",\"CLDRW-1\",\"MKHLW-1\",\"HMGTO-1\",\"PEMB-21\",\"GYMRO-15\",\"PEMB-51\",\"WBURB-1\",\"GYMRO-17\",\"RREW-1\",\"GYMRO-26\",\"RRWW-1\",\"GYMRO-28\",\"LNMTH-1\",\"LNMTH-2\",\"LNMTH-3\",\"WHILW-2\",\"LARYO-1\",\"ACHRW-1\",\"LARYO-2\",\"BLLA-2\",\"DRSLW-1\",\"CGTHW-1\",\"OMNDO-1\",\"DUNGW-1\",\"CRMLW-1\",\"WLNYO-2\",\"BRBEO-1\",\"COUWW-1\",\"LARYO-3\",\"HBHDW-1\",\"LARYO-4\",\"SHRSO-1\",\"EWHLW-1\",\"SHRSO-2\",\"DDGNO-2\",\"FSDLW-1\",\"BEINW-1\",\"ABRTW-1\",\"BHLAW-1\",\"DDGNO-3\",\"WTMSO-1\",\"DRAXX-1\",\"BNWKW-1\",\"LNCSO-1\",\"DRAXX-2\",\"HLGLW-1\",\"LNCSO-2\",\"HRTL-2\",\"TULWW-1\",\"DDGNO-1\"]\n",
    "\n",
    "b = [\"ABRTW-1\",\"ACHLW-1\",\"ACHRW-1\",\"AFTOW-1\",\"AIRSW-1\",\"AKGLW-2\",\"ANSUW-1\",\"ARCHW-1\",\"ASHWW-1\",\"ASLVW-1\",\"BABAW-1\",\"BDCHW-1\",\"BEINW-1\",\"BETHW-1\",\"BHLAW-1\",\"BLKWW-1\",\"BLLA-1\",\"BLLA-2\",\"BNWKW-1\",\"BRDUW-1\",\"BRYBW-1\",\"BTUIW-2\",\"BTUIW-3\",\"CAIRW-2\",\"CGTHW-1\",\"CLDCW-1\",\"CLDNW-1\",\"CLDRW-1\",\"CLDSW-1\",\"CLFLW-1\",\"CMSTW-1\",\"CNCLW-1\",\"COUWW-1\",\"CRDEW-1\",\"CRDEW-2\",\"CRGHW-1\",\"CRMLW-1\",\"CRYRW-2\",\"CRYRW-3\",\"DALSW-1\",\"DNLWW-1\",\"DOREW-1\",\"DOREW-2\",\"DRSLW-1\",\"DUNGW-1\",\"EDINW-1\",\"EWHLW-1\",\"FAARW-1\",\"FAARW-2\",\"FALGW-1\",\"FSDLW-1\",\"GDSTW-1\",\"GLCHW-1\",\"GLOFW-1\",\"GLWSW-1\",\"GNAPW-1\",\"GORDW-1\",\"GORDW-2\",\"GRIFW-1\",\"GRIFW-2\",\"HADHW-1\",\"HALSW-1\",\"HBHDW-1\",\"HLGLW-1\",\"HLTWW-1\",\"HRHLW-1\",\"HRSTW-1\",\"KENNW-1\",\"KILBW-1\",\"KLGLW-1\",\"KPMRW-1\",\"KTHLW-1\",\"LCLTW-1\",\"MDHLW-1\",\"MIDMW-1\",\"MILWW-1\",\"MINSW-1\",\"MKHLW-1\",\"MOYEW-1\",\"MYGPW-1\",\"PAUHW-1\",\"PGBIW-1\",\"PNYCW-1\",\"SANQW-1\",\"STLGW-1\",\"STLGW-2\",\"STLGW-3\",\"STRNW-1\",\"TDBNW-1\",\"TLYMW-1\",\"TRLGW-1\",\"TULWW-1\",\"TULWW-2\",\"TWSHW-1\",\"WDRGW-1\",\"WHIHW-1\",\"WHILW-1\",\"WHILW-2\",\"WISTW-2\"]\n",
    "\n",
    "def intersection(lst1, lst2):\n",
    "    lst3 = [value for value in lst1 if value in lst2]\n",
    "    return lst3\n",
    "\n",
    "print(sorted(intersection(a,b)))"
   ]
  }
 ],
 "metadata": {
  "interpreter": {
   "hash": "63fd5069d213b44bf678585dea6b12cceca9941eaf7f819626cde1f2670de90d"
  },
  "kernelspec": {
   "display_name": "Python 3.9.1 64-bit",
   "language": "python",
   "name": "python3"
  },
  "language_info": {
   "codemirror_mode": {
    "name": "ipython",
    "version": 3
   },
   "file_extension": ".py",
   "mimetype": "text/x-python",
   "name": "python",
   "nbconvert_exporter": "python",
   "pygments_lexer": "ipython3",
   "version": "3.9.1"
  },
  "orig_nbformat": 4
 },
 "nbformat": 4,
 "nbformat_minor": 2
}
