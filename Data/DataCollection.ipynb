{
 "cells": [
  {
   "cell_type": "markdown",
   "metadata": {},
   "source": [
    "## Data Collection Code"
   ]
  },
  {
   "cell_type": "code",
   "execution_count": 3,
   "metadata": {},
   "outputs": [],
   "source": [
    "import urllib3\n",
    "import csv\n",
    "import json\n",
    "import xmltodict\n",
    "import pandas as pd\n",
    "import datetime\n",
    "import requests\n",
    "requests.packages.urllib3.disable_warnings()"
   ]
  },
  {
   "cell_type": "markdown",
   "metadata": {},
   "source": [
    "#### getWeather()\n",
    "Takes set of locations, date and time as input and returns weather info for each point in time."
   ]
  },
  {
   "cell_type": "code",
   "execution_count": 4,
   "metadata": {},
   "outputs": [
    {
     "data": {
      "text/plain": [
       "{'temp': 0.1,\n",
       " 'visibility': 32.0,\n",
       " 'wspd': 1.5,\n",
       " 'cloudcover': 0.0,\n",
       " 'precip': 0.0,\n",
       " 'sealevelpressure': 1015.7,\n",
       " 'dew': -0.5,\n",
       " 'wgust': None,\n",
       " 'humidity': 95.5}"
      ]
     },
     "execution_count": 4,
     "metadata": {},
     "output_type": "execute_result"
    }
   ],
   "source": [
    "API_KEY = '6FF9G8N2T2NZCSR2C2WPZ42QF'\n",
    "WEATHER_endpoint = 'https://weather.visualcrossing.com/VisualCrossingWebServices/rest/services/weatherdata/history'\n",
    "desired_features = ['temp','visibility','wspd','cloudcover','precip','sealevelpressure','dew','wgust','humidity']\n",
    "\n",
    "def getWeather(latitudes,longitudes,datetime):\n",
    "    query_params = '&contentType=json&unitGroup=uk&aggregateMinutes=15&key={}&startDateTime={}&endDateTime={}&locations={},{}'\n",
    "    query_params=query_params.format(API_KEY, datetime.isoformat(), datetime.isoformat(),latitudes,longitudes)\n",
    "    try:\n",
    "        r = requests.get(WEATHER_endpoint + \"?\" + query_params,verify = False)\n",
    "        # print(r.text)\n",
    "        # print(json.loads(r.text))\n",
    "        weatherInfo = r.json()\n",
    "    except Exception:\n",
    "        weatherInfo = []\n",
    "        print('Problem loading weather data for query params' + query_params +\"\\n\"+ Exception)\n",
    "    if weatherInfo:\n",
    "        if 'errorCode' in weatherInfo:\n",
    "            print(\"Error\")\n",
    "        else:\n",
    "            for locationid in weatherInfo['locations']: \n",
    "                for value in weatherInfo['locations'][locationid]['values']:\n",
    "                    result = {key: value[key] for key in desired_features}\n",
    "            return result\n",
    "\n",
    "    else:\n",
    "        print('error')\n",
    "\n",
    "getWeather(55.61055739940275, -4.015384591727852, datetime.datetime(2021, 1, 12, 10, 0))\n"
   ]
  },
  {
   "cell_type": "markdown",
   "metadata": {},
   "source": [
    "#### getOutput()\n",
    "Takes generator ID, date and time as input and returns the actual amount generated"
   ]
  },
  {
   "cell_type": "code",
   "execution_count": 5,
   "metadata": {},
   "outputs": [],
   "source": [
    "BM_endpoint = 'https://api.bmreports.com/BMRS/PHYBMDATA/V1'\n",
    "API_KEY_GEN = '90nkfffj5r9qtbh'\n",
    "#CHANGE BACK TO B1610 and deal with the smalller dataset :()\n",
    "def getOutput(id,date,period):\n",
    "    dateStart = date.strftime(\"%Y-%m-%d\")\n",
    "    query_params = 'APIKey={}&SettlementDate={}&SettlementPeriod={}&NGCBMUnitName={}&ServiceType=xml'\n",
    "    query_params=query_params.format(API_KEY_GEN, dateStart,period,id)\n",
    "    # print(BM_endpoint + \"?\" + query_params)\n",
    "    # try:\n",
    "    r = requests.get(BM_endpoint + \"?\" + query_params,verify = False)\n",
    "    generationInfo = r.text\n",
    "    # print(r.text)\n",
    "    generationInfo = xmltodict.parse(generationInfo)\n",
    "    jsonGen = json.loads(json.dumps(generationInfo))\n",
    "    return(jsonGen['response']['responseBody']['responseList']['item'][0]['pnLevelTo'])"
   ]
  },
  {
   "cell_type": "markdown",
   "metadata": {},
   "source": [
    "#### Building dataset\n",
    "Loops across locations dataset, for each location, collecting weather & generation data for 5 different dates and times spread across a year with a mix of times of day.\n",
    "Aggregates all into one dataset, with attributes being weather, and the targets <i>y</i> being (actual generation)/(generation capacity)"
   ]
  },
  {
   "cell_type": "code",
   "execution_count": 8,
   "metadata": {},
   "outputs": [
    {
     "name": "stdout",
     "output_type": "stream",
     "text": [
      "ABRTW-1\n",
      "ACHLW-1\n",
      "ASdBASIUDB\n",
      "ACHRW-1\n",
      "AFTOW-1\n",
      "AIRSW-1\n",
      "AKGLW-2\n",
      "ANSUW-1\n",
      "ARCHW-1\n",
      "ASHWW-1\n",
      "ASLVW-1\n",
      "BABAW-1\n",
      "BDCHW-1\n",
      "BEINW-1\n",
      "BETHW-1\n",
      "BHLAW-1\n",
      "BLKWW-1\n",
      "BLLA-1\n",
      "BLLA-2\n",
      "BNWKW-1\n",
      "BRDUW-1\n",
      "BRYBW-1\n",
      "BTUIW-2\n",
      "BTUIW-3\n",
      "CAIRW-2\n",
      "CGTHW-1\n",
      "CLDCW-1\n",
      "CLDNW-1\n",
      "CLDRW-1\n",
      "CLDSW-1\n",
      "CLFLW-1\n",
      "CMSTW-1\n",
      "CNCLW-1\n",
      "COUWW-1\n",
      "CRDEW-1\n",
      "CRDEW-2\n",
      "CRGHW-1\n",
      "CRMLW-1\n",
      "CRYRW-2\n",
      "CRYRW-3\n",
      "DALSW-1\n",
      "DNLWW-1\n",
      "DOREW-1\n",
      "DOREW-2\n",
      "DRSLW-1\n",
      "DUNGW-1\n",
      "EDINW-1\n",
      "EWHLW-1\n",
      "FAARW-1\n",
      "FAARW-2\n",
      "FALGW-1\n",
      "FSDLW-1\n",
      "GDSTW-1\n",
      "GLCHW-1\n",
      "GLOFW-1\n",
      "GLWSW-1\n",
      "GNAPW-1\n",
      "GORDW-1\n",
      "GORDW-2\n",
      "GRIFW-1\n",
      "GRIFW-2\n",
      "HADHW-1\n",
      "HALSW-1\n",
      "HBHDW-1\n",
      "HLGLW-1\n",
      "HLTWW-1\n",
      "HRHLW-1\n",
      "HRSTW-1\n",
      "KENNW-1\n",
      "ASdBASIUDB\n",
      "KILBW-1\n",
      "KLGLW-1\n",
      "KPMRW-1\n",
      "KTHLW-1\n",
      "LCLTW-1\n",
      "MDHLW-1\n",
      "MIDMW-1\n",
      "MILWW-1\n",
      "MINSW-1\n",
      "MKHLW-1\n",
      "MOYEW-1\n",
      "MYGPW-1\n",
      "PAUHW-1\n",
      "PGBIW-1\n",
      "PNYCW-1\n",
      "SANQW-1\n",
      "STLGW-1\n",
      "STLGW-2\n",
      "STLGW-3\n",
      "STRNW-1\n",
      "TDBNW-1\n",
      "TLYMW-1\n",
      "TRLGW-1\n",
      "TULWW-1\n",
      "TULWW-2\n",
      "TWSHW-1\n",
      "ASdBASIUDB\n",
      "WDRGW-1\n",
      "ASdBASIUDB\n",
      "WHIHW-1\n",
      "WHILW-1\n",
      "WHILW-2\n",
      "WISTW-2\n"
     ]
    }
   ],
   "source": [
    "dateTimes = [datetime.datetime(2021,10,12,12,0,0)]\n",
    "locations = pd.read_csv('locations.csv')\n",
    "dataRows = []\n",
    "for location in locations.iterrows():\n",
    "    print(location[1]['BMU_ID'])\n",
    "    for time in dateTimes:\n",
    "        try:\n",
    "            period = time.hour * 2 + 1\n",
    "            if time.minute > 30:\n",
    "                period += 1\n",
    "            dataPoint = getWeather(location[1]['latitude'],location[1]['longitude'],time)\n",
    "            dataPoint['loadFactor'] = float(getOutput(location[1]['BMU_ID'],time,period))/location[1]['capacity']\n",
    "            dataPoint['BMUID'] = location[1]['BMU_ID']\n",
    "            dataRows.append(dataPoint)\n",
    "        except:\n",
    "            print(\"ASdBASIUDB\")\n",
    "# dataset attributes: locationID, temp,visibility,wspd,cloudcover,precip,sealevelpressue,dew,humidity,wgust     | loadfactor 0-1\n",
    "dataset = pd.DataFrame(dataRows,columns=['BMUID','temp','wspd','wgust','sealevelpressure','visibility','cloudcover','precip','dew','humidity','loadFactor'])\n",
    "\n",
    "dataset.to_csv('dataset.csv')\n"
   ]
  },
  {
   "cell_type": "code",
   "execution_count": 13,
   "metadata": {},
   "outputs": [
    {
     "name": "stdout",
     "output_type": "stream",
     "text": [
      "4.000\n"
     ]
    }
   ],
   "source": [
    "print(getOutput('ASLVW-1',datetime.datetime(2021,10,12,12,0,0),26))"
   ]
  }
 ],
 "metadata": {
  "interpreter": {
   "hash": "63fd5069d213b44bf678585dea6b12cceca9941eaf7f819626cde1f2670de90d"
  },
  "kernelspec": {
   "display_name": "Python 3.9.1 64-bit",
   "language": "python",
   "name": "python3"
  },
  "language_info": {
   "codemirror_mode": {
    "name": "ipython",
    "version": 3
   },
   "file_extension": ".py",
   "mimetype": "text/x-python",
   "name": "python",
   "nbconvert_exporter": "python",
   "pygments_lexer": "ipython3",
   "version": "3.9.1"
  },
  "orig_nbformat": 4
 },
 "nbformat": 4,
 "nbformat_minor": 2
}
